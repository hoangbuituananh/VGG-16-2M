{
 "cells": [
  {
   "cell_type": "code",
   "execution_count": null,
   "id": "fa9ae708",
   "metadata": {
    "execution": {
     "iopub.status.busy": "2024-12-08T14:56:30.681730Z",
     "iopub.status.idle": "2024-12-08T14:56:30.682020Z",
     "shell.execute_reply": "2024-12-08T14:56:30.681893Z",
     "shell.execute_reply.started": "2024-12-08T14:56:30.681878Z"
    },
    "papermill": {
     "duration": 6.592257,
     "end_time": "2024-12-05T01:33:53.669558",
     "exception": false,
     "start_time": "2024-12-05T01:33:47.077301",
     "status": "completed"
    },
    "tags": [],
    "trusted": true
   },
   "outputs": [],
   "source": [
    "import torch\n",
    "import torch.nn as nn\n",
    "import torch.optim as optim\n",
    "from torch.utils.data import DataLoader, Dataset\n",
    "from torchvision import datasets, models, transforms\n",
    "import matplotlib.pyplot as plt\n",
    "import seaborn as sns\n",
    "import numpy as np\n",
    "from sklearn.utils.class_weight import compute_class_weight\n"
   ]
  },
  {
   "cell_type": "code",
   "execution_count": null,
   "id": "47fa862b",
   "metadata": {
    "execution": {
     "iopub.status.busy": "2024-12-08T14:56:30.682959Z",
     "iopub.status.idle": "2024-12-08T14:56:30.683280Z",
     "shell.execute_reply": "2024-12-08T14:56:30.683124Z",
     "shell.execute_reply.started": "2024-12-08T14:56:30.683109Z"
    },
    "papermill": {
     "duration": 0.013285,
     "end_time": "2024-12-05T01:33:53.690152",
     "exception": false,
     "start_time": "2024-12-05T01:33:53.676867",
     "status": "completed"
    },
    "tags": [],
    "trusted": true
   },
   "outputs": [],
   "source": [
    "data_dir_train = \"/kaggle/input/skin-disease-dataset/Skin_Disease_Dataset/Train\"\n",
    "data_dir_test = \"/kaggle/input/skin-disease-dataset/Skin_Disease_Dataset/Test\"\n",
    "data_dir_val = \"/kaggle/input/skin-disease-dataset/Skin_Disease_Dataset/Val\"\n"
   ]
  },
  {
   "cell_type": "code",
   "execution_count": null,
   "id": "5c66c5fc-d9be-471e-b914-48b8b8e1723c",
   "metadata": {
    "execution": {
     "iopub.status.busy": "2024-12-08T14:56:30.684589Z",
     "iopub.status.idle": "2024-12-08T14:56:30.684884Z",
     "shell.execute_reply": "2024-12-08T14:56:30.684757Z",
     "shell.execute_reply.started": "2024-12-08T14:56:30.684742Z"
    },
    "trusted": true
   },
   "outputs": [],
   "source": [
    "# data_dir_train = \"/kaggle/input/vegetable-image-dataset/Vegetable Images/test\"\n",
    "# data_dir_test = \"/kaggle/input/vegetable-image-dataset/Vegetable Images/train\""
   ]
  },
  {
   "cell_type": "code",
   "execution_count": 25,
   "id": "c785d235",
   "metadata": {
    "execution": {
     "iopub.execute_input": "2024-12-08T14:56:43.269357Z",
     "iopub.status.busy": "2024-12-08T14:56:43.268977Z",
     "iopub.status.idle": "2024-12-08T14:56:53.048521Z",
     "shell.execute_reply": "2024-12-08T14:56:53.047303Z",
     "shell.execute_reply.started": "2024-12-08T14:56:43.269322Z"
    },
    "papermill": {
     "duration": 11.525786,
     "end_time": "2024-12-05T01:34:05.223320",
     "exception": false,
     "start_time": "2024-12-05T01:33:53.697534",
     "status": "completed"
    },
    "tags": [],
    "trusted": true
   },
   "outputs": [
    {
     "ename": "KeyboardInterrupt",
     "evalue": "",
     "output_type": "error",
     "traceback": [
      "\u001b[0;31m---------------------------------------------------------------------------\u001b[0m",
      "\u001b[0;31mKeyboardInterrupt\u001b[0m                         Traceback (most recent call last)",
      "Cell \u001b[0;32mIn[25], line 23\u001b[0m\n\u001b[1;32m     21\u001b[0m \u001b[38;5;66;03m# Datasets\u001b[39;00m\n\u001b[1;32m     22\u001b[0m train_dataset \u001b[38;5;241m=\u001b[39m datasets\u001b[38;5;241m.\u001b[39mImageFolder(root\u001b[38;5;241m=\u001b[39mdata_dir_train, transform\u001b[38;5;241m=\u001b[39mdata_transforms[\u001b[38;5;124m\"\u001b[39m\u001b[38;5;124mtrain\u001b[39m\u001b[38;5;124m\"\u001b[39m])\n\u001b[0;32m---> 23\u001b[0m val_dataset \u001b[38;5;241m=\u001b[39m \u001b[43mdatasets\u001b[49m\u001b[38;5;241;43m.\u001b[39;49m\u001b[43mImageFolder\u001b[49m\u001b[43m(\u001b[49m\u001b[43mroot\u001b[49m\u001b[38;5;241;43m=\u001b[39;49m\u001b[43mdata_dir_val\u001b[49m\u001b[43m,\u001b[49m\u001b[43m \u001b[49m\u001b[43mtransform\u001b[49m\u001b[38;5;241;43m=\u001b[39;49m\u001b[43mdata_transforms\u001b[49m\u001b[43m[\u001b[49m\u001b[38;5;124;43m\"\u001b[39;49m\u001b[38;5;124;43mval\u001b[39;49m\u001b[38;5;124;43m\"\u001b[39;49m\u001b[43m]\u001b[49m\u001b[43m)\u001b[49m\n\u001b[1;32m     24\u001b[0m test_dataset \u001b[38;5;241m=\u001b[39m datasets\u001b[38;5;241m.\u001b[39mImageFolder(root\u001b[38;5;241m=\u001b[39mdata_dir_test, transform\u001b[38;5;241m=\u001b[39mdata_transforms[\u001b[38;5;124m\"\u001b[39m\u001b[38;5;124mtest\u001b[39m\u001b[38;5;124m\"\u001b[39m])\n\u001b[1;32m     26\u001b[0m \u001b[38;5;66;03m# DataLoaders\u001b[39;00m\n",
      "File \u001b[0;32m/opt/conda/lib/python3.10/site-packages/torchvision/datasets/folder.py:328\u001b[0m, in \u001b[0;36mImageFolder.__init__\u001b[0;34m(self, root, transform, target_transform, loader, is_valid_file, allow_empty)\u001b[0m\n\u001b[1;32m    319\u001b[0m \u001b[38;5;28;01mdef\u001b[39;00m \u001b[38;5;21m__init__\u001b[39m(\n\u001b[1;32m    320\u001b[0m     \u001b[38;5;28mself\u001b[39m,\n\u001b[1;32m    321\u001b[0m     root: \u001b[38;5;28mstr\u001b[39m,\n\u001b[0;32m   (...)\u001b[0m\n\u001b[1;32m    326\u001b[0m     allow_empty: \u001b[38;5;28mbool\u001b[39m \u001b[38;5;241m=\u001b[39m \u001b[38;5;28;01mFalse\u001b[39;00m,\n\u001b[1;32m    327\u001b[0m ):\n\u001b[0;32m--> 328\u001b[0m     \u001b[38;5;28;43msuper\u001b[39;49m\u001b[43m(\u001b[49m\u001b[43m)\u001b[49m\u001b[38;5;241;43m.\u001b[39;49m\u001b[38;5;21;43m__init__\u001b[39;49m\u001b[43m(\u001b[49m\n\u001b[1;32m    329\u001b[0m \u001b[43m        \u001b[49m\u001b[43mroot\u001b[49m\u001b[43m,\u001b[49m\n\u001b[1;32m    330\u001b[0m \u001b[43m        \u001b[49m\u001b[43mloader\u001b[49m\u001b[43m,\u001b[49m\n\u001b[1;32m    331\u001b[0m \u001b[43m        \u001b[49m\u001b[43mIMG_EXTENSIONS\u001b[49m\u001b[43m \u001b[49m\u001b[38;5;28;43;01mif\u001b[39;49;00m\u001b[43m \u001b[49m\u001b[43mis_valid_file\u001b[49m\u001b[43m \u001b[49m\u001b[38;5;129;43;01mis\u001b[39;49;00m\u001b[43m \u001b[49m\u001b[38;5;28;43;01mNone\u001b[39;49;00m\u001b[43m \u001b[49m\u001b[38;5;28;43;01melse\u001b[39;49;00m\u001b[43m \u001b[49m\u001b[38;5;28;43;01mNone\u001b[39;49;00m\u001b[43m,\u001b[49m\n\u001b[1;32m    332\u001b[0m \u001b[43m        \u001b[49m\u001b[43mtransform\u001b[49m\u001b[38;5;241;43m=\u001b[39;49m\u001b[43mtransform\u001b[49m\u001b[43m,\u001b[49m\n\u001b[1;32m    333\u001b[0m \u001b[43m        \u001b[49m\u001b[43mtarget_transform\u001b[49m\u001b[38;5;241;43m=\u001b[39;49m\u001b[43mtarget_transform\u001b[49m\u001b[43m,\u001b[49m\n\u001b[1;32m    334\u001b[0m \u001b[43m        \u001b[49m\u001b[43mis_valid_file\u001b[49m\u001b[38;5;241;43m=\u001b[39;49m\u001b[43mis_valid_file\u001b[49m\u001b[43m,\u001b[49m\n\u001b[1;32m    335\u001b[0m \u001b[43m        \u001b[49m\u001b[43mallow_empty\u001b[49m\u001b[38;5;241;43m=\u001b[39;49m\u001b[43mallow_empty\u001b[49m\u001b[43m,\u001b[49m\n\u001b[1;32m    336\u001b[0m \u001b[43m    \u001b[49m\u001b[43m)\u001b[49m\n\u001b[1;32m    337\u001b[0m     \u001b[38;5;28mself\u001b[39m\u001b[38;5;241m.\u001b[39mimgs \u001b[38;5;241m=\u001b[39m \u001b[38;5;28mself\u001b[39m\u001b[38;5;241m.\u001b[39msamples\n",
      "File \u001b[0;32m/opt/conda/lib/python3.10/site-packages/torchvision/datasets/folder.py:150\u001b[0m, in \u001b[0;36mDatasetFolder.__init__\u001b[0;34m(self, root, loader, extensions, transform, target_transform, is_valid_file, allow_empty)\u001b[0m\n\u001b[1;32m    148\u001b[0m \u001b[38;5;28msuper\u001b[39m()\u001b[38;5;241m.\u001b[39m\u001b[38;5;21m__init__\u001b[39m(root, transform\u001b[38;5;241m=\u001b[39mtransform, target_transform\u001b[38;5;241m=\u001b[39mtarget_transform)\n\u001b[1;32m    149\u001b[0m classes, class_to_idx \u001b[38;5;241m=\u001b[39m \u001b[38;5;28mself\u001b[39m\u001b[38;5;241m.\u001b[39mfind_classes(\u001b[38;5;28mself\u001b[39m\u001b[38;5;241m.\u001b[39mroot)\n\u001b[0;32m--> 150\u001b[0m samples \u001b[38;5;241m=\u001b[39m \u001b[38;5;28;43mself\u001b[39;49m\u001b[38;5;241;43m.\u001b[39;49m\u001b[43mmake_dataset\u001b[49m\u001b[43m(\u001b[49m\n\u001b[1;32m    151\u001b[0m \u001b[43m    \u001b[49m\u001b[38;5;28;43mself\u001b[39;49m\u001b[38;5;241;43m.\u001b[39;49m\u001b[43mroot\u001b[49m\u001b[43m,\u001b[49m\n\u001b[1;32m    152\u001b[0m \u001b[43m    \u001b[49m\u001b[43mclass_to_idx\u001b[49m\u001b[38;5;241;43m=\u001b[39;49m\u001b[43mclass_to_idx\u001b[49m\u001b[43m,\u001b[49m\n\u001b[1;32m    153\u001b[0m \u001b[43m    \u001b[49m\u001b[43mextensions\u001b[49m\u001b[38;5;241;43m=\u001b[39;49m\u001b[43mextensions\u001b[49m\u001b[43m,\u001b[49m\n\u001b[1;32m    154\u001b[0m \u001b[43m    \u001b[49m\u001b[43mis_valid_file\u001b[49m\u001b[38;5;241;43m=\u001b[39;49m\u001b[43mis_valid_file\u001b[49m\u001b[43m,\u001b[49m\n\u001b[1;32m    155\u001b[0m \u001b[43m    \u001b[49m\u001b[43mallow_empty\u001b[49m\u001b[38;5;241;43m=\u001b[39;49m\u001b[43mallow_empty\u001b[49m\u001b[43m,\u001b[49m\n\u001b[1;32m    156\u001b[0m \u001b[43m\u001b[49m\u001b[43m)\u001b[49m\n\u001b[1;32m    158\u001b[0m \u001b[38;5;28mself\u001b[39m\u001b[38;5;241m.\u001b[39mloader \u001b[38;5;241m=\u001b[39m loader\n\u001b[1;32m    159\u001b[0m \u001b[38;5;28mself\u001b[39m\u001b[38;5;241m.\u001b[39mextensions \u001b[38;5;241m=\u001b[39m extensions\n",
      "File \u001b[0;32m/opt/conda/lib/python3.10/site-packages/torchvision/datasets/folder.py:203\u001b[0m, in \u001b[0;36mDatasetFolder.make_dataset\u001b[0;34m(directory, class_to_idx, extensions, is_valid_file, allow_empty)\u001b[0m\n\u001b[1;32m    198\u001b[0m \u001b[38;5;28;01mif\u001b[39;00m class_to_idx \u001b[38;5;129;01mis\u001b[39;00m \u001b[38;5;28;01mNone\u001b[39;00m:\n\u001b[1;32m    199\u001b[0m     \u001b[38;5;66;03m# prevent potential bug since make_dataset() would use the class_to_idx logic of the\u001b[39;00m\n\u001b[1;32m    200\u001b[0m     \u001b[38;5;66;03m# find_classes() function, instead of using that of the find_classes() method, which\u001b[39;00m\n\u001b[1;32m    201\u001b[0m     \u001b[38;5;66;03m# is potentially overridden and thus could have a different logic.\u001b[39;00m\n\u001b[1;32m    202\u001b[0m     \u001b[38;5;28;01mraise\u001b[39;00m \u001b[38;5;167;01mValueError\u001b[39;00m(\u001b[38;5;124m\"\u001b[39m\u001b[38;5;124mThe class_to_idx parameter cannot be None.\u001b[39m\u001b[38;5;124m\"\u001b[39m)\n\u001b[0;32m--> 203\u001b[0m \u001b[38;5;28;01mreturn\u001b[39;00m \u001b[43mmake_dataset\u001b[49m\u001b[43m(\u001b[49m\n\u001b[1;32m    204\u001b[0m \u001b[43m    \u001b[49m\u001b[43mdirectory\u001b[49m\u001b[43m,\u001b[49m\u001b[43m \u001b[49m\u001b[43mclass_to_idx\u001b[49m\u001b[43m,\u001b[49m\u001b[43m \u001b[49m\u001b[43mextensions\u001b[49m\u001b[38;5;241;43m=\u001b[39;49m\u001b[43mextensions\u001b[49m\u001b[43m,\u001b[49m\u001b[43m \u001b[49m\u001b[43mis_valid_file\u001b[49m\u001b[38;5;241;43m=\u001b[39;49m\u001b[43mis_valid_file\u001b[49m\u001b[43m,\u001b[49m\u001b[43m \u001b[49m\u001b[43mallow_empty\u001b[49m\u001b[38;5;241;43m=\u001b[39;49m\u001b[43mallow_empty\u001b[49m\n\u001b[1;32m    205\u001b[0m \u001b[43m\u001b[49m\u001b[43m)\u001b[49m\n",
      "File \u001b[0;32m/opt/conda/lib/python3.10/site-packages/torchvision/datasets/folder.py:89\u001b[0m, in \u001b[0;36mmake_dataset\u001b[0;34m(directory, class_to_idx, extensions, is_valid_file, allow_empty)\u001b[0m\n\u001b[1;32m     87\u001b[0m \u001b[38;5;28;01mif\u001b[39;00m \u001b[38;5;129;01mnot\u001b[39;00m os\u001b[38;5;241m.\u001b[39mpath\u001b[38;5;241m.\u001b[39misdir(target_dir):\n\u001b[1;32m     88\u001b[0m     \u001b[38;5;28;01mcontinue\u001b[39;00m\n\u001b[0;32m---> 89\u001b[0m \u001b[38;5;28;01mfor\u001b[39;00m root, _, fnames \u001b[38;5;129;01min\u001b[39;00m \u001b[38;5;28;43msorted\u001b[39;49m\u001b[43m(\u001b[49m\u001b[43mos\u001b[49m\u001b[38;5;241;43m.\u001b[39;49m\u001b[43mwalk\u001b[49m\u001b[43m(\u001b[49m\u001b[43mtarget_dir\u001b[49m\u001b[43m,\u001b[49m\u001b[43m \u001b[49m\u001b[43mfollowlinks\u001b[49m\u001b[38;5;241;43m=\u001b[39;49m\u001b[38;5;28;43;01mTrue\u001b[39;49;00m\u001b[43m)\u001b[49m\u001b[43m)\u001b[49m:\n\u001b[1;32m     90\u001b[0m     \u001b[38;5;28;01mfor\u001b[39;00m fname \u001b[38;5;129;01min\u001b[39;00m \u001b[38;5;28msorted\u001b[39m(fnames):\n\u001b[1;32m     91\u001b[0m         path \u001b[38;5;241m=\u001b[39m os\u001b[38;5;241m.\u001b[39mpath\u001b[38;5;241m.\u001b[39mjoin(root, fname)\n",
      "File \u001b[0;32m/opt/conda/lib/python3.10/os.py:377\u001b[0m, in \u001b[0;36m_walk\u001b[0;34m(top, topdown, onerror, followlinks)\u001b[0m\n\u001b[1;32m    374\u001b[0m     \u001b[38;5;28;01mreturn\u001b[39;00m\n\u001b[1;32m    376\u001b[0m \u001b[38;5;28;01mtry\u001b[39;00m:\n\u001b[0;32m--> 377\u001b[0m     is_dir \u001b[38;5;241m=\u001b[39m \u001b[43mentry\u001b[49m\u001b[38;5;241;43m.\u001b[39;49m\u001b[43mis_dir\u001b[49m\u001b[43m(\u001b[49m\u001b[43m)\u001b[49m\n\u001b[1;32m    378\u001b[0m \u001b[38;5;28;01mexcept\u001b[39;00m \u001b[38;5;167;01mOSError\u001b[39;00m:\n\u001b[1;32m    379\u001b[0m     \u001b[38;5;66;03m# If is_dir() raises an OSError, consider that the entry is not\u001b[39;00m\n\u001b[1;32m    380\u001b[0m     \u001b[38;5;66;03m# a directory, same behaviour than os.path.isdir().\u001b[39;00m\n\u001b[1;32m    381\u001b[0m     is_dir \u001b[38;5;241m=\u001b[39m \u001b[38;5;28;01mFalse\u001b[39;00m\n",
      "\u001b[0;31mKeyboardInterrupt\u001b[0m: "
     ]
    }
   ],
   "source": [
    "\n",
    "# Data transformations\n",
    "data_transforms = {\n",
    "    \"train\": transforms.Compose([\n",
    "        transforms.RandomResizedCrop(224),\n",
    "        transforms.RandomHorizontalFlip(),\n",
    "        transforms.ToTensor(),\n",
    "        transforms.Normalize([0.485, 0.456, 0.406], [0.229, 0.224, 0.225])\n",
    "    ]),\n",
    "    \"val\": transforms.Compose([\n",
    "        transforms.Resize((224, 224)),\n",
    "        transforms.ToTensor(),\n",
    "        transforms.Normalize([0.485, 0.456, 0.406], [0.229, 0.224, 0.225])\n",
    "    ]),\n",
    "    \"test\": transforms.Compose([\n",
    "        transforms.Resize((224, 224)),\n",
    "        transforms.ToTensor(),\n",
    "        transforms.Normalize([0.485, 0.456, 0.406], [0.229, 0.224, 0.225])\n",
    "    ])\n",
    "}\n",
    "\n",
    "# Datasets\n",
    "train_dataset = datasets.ImageFolder(root=data_dir_train, transform=data_transforms[\"train\"])\n",
    "val_dataset = datasets.ImageFolder(root=data_dir_val, transform=data_transforms[\"val\"])\n",
    "test_dataset = datasets.ImageFolder(root=data_dir_test, transform=data_transforms[\"test\"])\n",
    "\n",
    "# DataLoaders\n",
    "train_loader = DataLoader(train_dataset, batch_size=64, shuffle=True, num_workers=2)\n",
    "val_loader = DataLoader(val_dataset, batch_size=64, shuffle=False, num_workers=2)\n",
    "test_loader = DataLoader(test_dataset, batch_size=64, shuffle=False, num_workers=2)\n",
    "\n",
    "# Class information\n",
    "class_names = train_dataset.classes\n",
    "num_classes = len(class_names)\n",
    "\n",
    "print(f\"Classes: {class_names}\")\n",
    "print(f\"Number of classes: {num_classes}\")\n",
    "print(f\"Number of training samples: {len(train_dataset)}\")\n",
    "print(f\"Number of validation samples: {len(val_dataset)}\")\n",
    "print(f\"Number of test samples: {len(test_dataset)}\")\n"
   ]
  },
  {
   "cell_type": "code",
   "execution_count": null,
   "id": "3290dca5",
   "metadata": {
    "execution": {
     "iopub.status.busy": "2024-12-08T14:56:30.687634Z",
     "iopub.status.idle": "2024-12-08T14:56:30.687936Z",
     "shell.execute_reply": "2024-12-08T14:56:30.687808Z",
     "shell.execute_reply.started": "2024-12-08T14:56:30.687793Z"
    },
    "papermill": {
     "duration": 0.01404,
     "end_time": "2024-12-05T01:34:05.244705",
     "exception": false,
     "start_time": "2024-12-05T01:34:05.230665",
     "status": "completed"
    },
    "tags": [],
    "trusted": true
   },
   "outputs": [],
   "source": [
    "print(class_names)\n",
    "num_classes"
   ]
  },
  {
   "cell_type": "code",
   "execution_count": null,
   "id": "24bf56ed",
   "metadata": {
    "execution": {
     "iopub.status.busy": "2024-12-08T14:56:30.688961Z",
     "iopub.status.idle": "2024-12-08T14:56:30.689272Z",
     "shell.execute_reply": "2024-12-08T14:56:30.689123Z",
     "shell.execute_reply.started": "2024-12-08T14:56:30.689108Z"
    },
    "papermill": {
     "duration": 174.244792,
     "end_time": "2024-12-05T01:36:59.496737",
     "exception": false,
     "start_time": "2024-12-05T01:34:05.251945",
     "status": "completed"
    },
    "tags": [],
    "trusted": true
   },
   "outputs": [],
   "source": [
    "from collections import Counter\n",
    "\n",
    "def plot_class_distribution(dataset, class_names):\n",
    "    labels = [label for _, label in dataset]\n",
    "    class_counts = Counter(labels)\n",
    "    class_indices = list(class_counts.keys())\n",
    "    class_values = list(class_counts.values())\n",
    "    \n",
    "    plt.figure(figsize=(12, 6))\n",
    "    sns.barplot(x=[class_names[idx] for idx in class_indices], y=class_values, palette=\"viridis\")\n",
    "    plt.title(\"Class Distribution in Training Data\", fontsize=14)\n",
    "    plt.xlabel(\"Class\", fontsize=12)\n",
    "    plt.ylabel(\"Frequency\", fontsize=12)\n",
    "    plt.xticks(rotation=45, fontsize=10)\n",
    "    plt.tight_layout()\n",
    "    plt.show()\n",
    "\n",
    "plot_class_distribution(train_dataset, class_names)"
   ]
  },
  {
   "cell_type": "code",
   "execution_count": null,
   "id": "9e0530fc",
   "metadata": {
    "execution": {
     "iopub.status.busy": "2024-12-08T14:56:30.690159Z",
     "iopub.status.idle": "2024-12-08T14:56:30.690476Z",
     "shell.execute_reply": "2024-12-08T14:56:30.690339Z",
     "shell.execute_reply.started": "2024-12-08T14:56:30.690324Z"
    },
    "papermill": {
     "duration": 203.453347,
     "end_time": "2024-12-05T01:40:22.958426",
     "exception": false,
     "start_time": "2024-12-05T01:36:59.505079",
     "status": "completed"
    },
    "tags": [],
    "trusted": true
   },
   "outputs": [],
   "source": [
    "from torch.utils.data import WeightedRandomSampler\n",
    "\n",
    "# Tính trọng số mẫu\n",
    "class_sample_counts = Counter([label for _, label in train_dataset])\n",
    "weights = 1. / np.array([class_sample_counts[i] for i in range(num_classes)])\n",
    "sample_weights = [weights[label] for _, label in train_dataset]\n",
    "\n",
    "# Sampler\n",
    "sampler = WeightedRandomSampler(sample_weights, len(sample_weights), replacement=True)\n",
    "train_loader = DataLoader(train_dataset, batch_size=64, sampler=sampler, num_workers=2)\n"
   ]
  },
  {
   "cell_type": "code",
   "execution_count": null,
   "id": "1850991e",
   "metadata": {
    "execution": {
     "iopub.status.busy": "2024-12-08T14:56:30.691813Z",
     "iopub.status.idle": "2024-12-08T14:56:30.692086Z",
     "shell.execute_reply": "2024-12-08T14:56:30.691965Z",
     "shell.execute_reply.started": "2024-12-08T14:56:30.691952Z"
    },
    "papermill": {
     "duration": 3.267804,
     "end_time": "2024-12-05T01:40:26.238457",
     "exception": false,
     "start_time": "2024-12-05T01:40:22.970653",
     "status": "completed"
    },
    "tags": [],
    "trusted": true
   },
   "outputs": [],
   "source": [
    "\n",
    "data_iter = iter(train_loader)\n",
    "images, labels = next(data_iter)\n",
    "\n",
    "# Hiển thị hình ảnh\n",
    "fig, ax = plt.subplots(nrows=3, ncols=10, figsize=(20, 8))\n",
    "for idx in range(30):\n",
    "    row, col = divmod(idx, 10)\n",
    "    ax[row, col].imshow(np.transpose(images[idx].numpy(), (1, 2, 0)))\n",
    "    ax[row, col].set_title(str(class_names[labels[idx]]), fontsize=8)\n",
    "    ax[row, col].axis('off')\n",
    "plt.tight_layout()\n",
    "plt.show()\n"
   ]
  },
  {
   "cell_type": "code",
   "execution_count": null,
   "id": "c5ecb0d9",
   "metadata": {
    "execution": {
     "iopub.status.busy": "2024-12-08T14:56:30.692799Z",
     "iopub.status.idle": "2024-12-08T14:56:30.693088Z",
     "shell.execute_reply": "2024-12-08T14:56:30.692960Z",
     "shell.execute_reply.started": "2024-12-08T14:56:30.692945Z"
    },
    "papermill": {
     "duration": 51.134052,
     "end_time": "2024-12-05T01:41:17.408545",
     "exception": false,
     "start_time": "2024-12-05T01:40:26.274493",
     "status": "completed"
    },
    "tags": [],
    "trusted": true
   },
   "outputs": [],
   "source": [
    "# Tính trọng số cho các lớp\n",
    "y_train = [label for _, labels in train_loader for label in labels.numpy()]\n",
    "class_weights = compute_class_weight(class_weight=\"balanced\", classes=np.arange(num_classes), y=y_train)\n",
    "class_weights = torch.tensor(class_weights, dtype=torch.float).to(\"cuda\")\n",
    "\n"
   ]
  },
  {
   "cell_type": "code",
   "execution_count": null,
   "id": "78c1770c",
   "metadata": {
    "execution": {
     "iopub.status.busy": "2024-12-08T14:56:30.694468Z",
     "iopub.status.idle": "2024-12-08T14:56:30.694899Z",
     "shell.execute_reply": "2024-12-08T14:56:30.694696Z",
     "shell.execute_reply.started": "2024-12-08T14:56:30.694673Z"
    },
    "papermill": {
     "duration": 0.040951,
     "end_time": "2024-12-05T01:41:19.296909",
     "exception": false,
     "start_time": "2024-12-05T01:41:19.255958",
     "status": "completed"
    },
    "tags": [],
    "trusted": true
   },
   "outputs": [],
   "source": [
    "device = torch.device(\"cuda\" if torch.cuda.is_available() else \"cpu\")"
   ]
  },
  {
   "cell_type": "code",
   "execution_count": 36,
   "id": "efb16ba2-3a9b-41d3-a11d-7bd809b482a3",
   "metadata": {
    "execution": {
     "iopub.execute_input": "2024-12-08T15:04:02.769233Z",
     "iopub.status.busy": "2024-12-08T15:04:02.768213Z",
     "iopub.status.idle": "2024-12-08T15:04:02.840370Z",
     "shell.execute_reply": "2024-12-08T15:04:02.839505Z",
     "shell.execute_reply.started": "2024-12-08T15:04:02.769182Z"
    },
    "trusted": true
   },
   "outputs": [
    {
     "name": "stdout",
     "output_type": "stream",
     "text": [
      "Số tham số sau khi tăng sức mạnh: 2,167,898\n"
     ]
    }
   ],
   "source": [
    "import torch\n",
    "import torch.nn as nn\n",
    "\n",
    "class VGG16PowerUp(nn.Module):\n",
    "    def __init__(self, num_classes=1000):\n",
    "        super(VGG16PowerUp, self).__init__()\n",
    "        self.features = nn.Sequential(\n",
    "            # Block 1\n",
    "            nn.Conv2d(3, 16, kernel_size=3, padding=1),\n",
    "            nn.BatchNorm2d(16),\n",
    "            nn.LeakyReLU(inplace=True),\n",
    "            nn.Conv2d(16, 16, kernel_size=3, padding=1),\n",
    "            nn.BatchNorm2d(16),\n",
    "            nn.LeakyReLU(inplace=True),\n",
    "            nn.MaxPool2d(kernel_size=2, stride=2),\n",
    "            \n",
    "            # Block 2\n",
    "            nn.Conv2d(16, 32, kernel_size=3, padding=1),\n",
    "            nn.BatchNorm2d(32),\n",
    "            nn.LeakyReLU(inplace=True),\n",
    "            nn.Conv2d(32, 32, kernel_size=3, padding=1),\n",
    "            nn.BatchNorm2d(32),\n",
    "            nn.LeakyReLU(inplace=True),\n",
    "            nn.MaxPool2d(kernel_size=2, stride=2),\n",
    "            \n",
    "            # Block 3\n",
    "            nn.Conv2d(32, 64, kernel_size=3, padding=1),\n",
    "            nn.BatchNorm2d(64),\n",
    "            nn.LeakyReLU(inplace=True),\n",
    "            nn.Conv2d(64, 64, kernel_size=3, padding=1),\n",
    "            nn.BatchNorm2d(64),\n",
    "            nn.LeakyReLU(inplace=True),\n",
    "            nn.MaxPool2d(kernel_size=2, stride=2),\n",
    "            \n",
    "            # Block 4\n",
    "            nn.Conv2d(64, 128, kernel_size=3, padding=1),\n",
    "            nn.BatchNorm2d(128),\n",
    "            nn.LeakyReLU(inplace=True),\n",
    "            nn.Conv2d(128, 128, kernel_size=3, padding=1),\n",
    "            nn.BatchNorm2d(128),\n",
    "            nn.LeakyReLU(inplace=True),\n",
    "            nn.MaxPool2d(kernel_size=2, stride=2),\n",
    "            \n",
    "            # Block 5\n",
    "            nn.Conv2d(128, 256, kernel_size=3, padding=1),  # Tăng từ 128 lên 256\n",
    "            nn.BatchNorm2d(256),\n",
    "            nn.LeakyReLU(inplace=True),\n",
    "            nn.Conv2d(256, 512, kernel_size=3, padding=1),\n",
    "            nn.BatchNorm2d(512),\n",
    "            nn.LeakyReLU(inplace=True),\n",
    "            nn.MaxPool2d(kernel_size=2, stride=2),\n",
    "        )\n",
    "        \n",
    "        # Global Average Pooling\n",
    "        self.global_pool = nn.AdaptiveAvgPool2d((1, 1))\n",
    "        \n",
    "        # Classifier\n",
    "        self.classifier = nn.Sequential(\n",
    "            nn.Linear(512, 512),  # Giữ thông tin từ GAP\n",
    "            nn.LeakyReLU(inplace=True),\n",
    "            nn.Dropout(0.3),\n",
    "            nn.Linear(512, 256),\n",
    "            nn.LeakyReLU(inplace=True),\n",
    "            nn.Dropout(0.3),\n",
    "            nn.Linear(256, num_classes),\n",
    "        )\n",
    "        \n",
    "        self._initialize_weights()\n",
    "\n",
    "    def forward(self, x):\n",
    "        x = self.features(x)\n",
    "        x = self.global_pool(x)\n",
    "        x = torch.flatten(x, 1)  # Flatten sau GAP\n",
    "        x = self.classifier(x)\n",
    "        return x\n",
    "\n",
    "    def _initialize_weights(self):\n",
    "        for m in self.modules():\n",
    "            if isinstance(m, nn.Conv2d):\n",
    "                nn.init.kaiming_normal_(m.weight, mode='fan_out', nonlinearity='leaky_relu')\n",
    "                if m.bias is not None:\n",
    "                    nn.init.constant_(m.bias, 0)\n",
    "            elif isinstance(m, nn.Linear):\n",
    "                nn.init.xavier_normal_(m.weight)  # Thay thế bằng Xavier Normal\n",
    "                nn.init.constant_(m.bias, 0)\n",
    "\n",
    "# Khởi tạo mô hình nâng cấp\n",
    "num_classes \n",
    "device = torch.device(\"cuda\" if torch.cuda.is_available() else \"cpu\")\n",
    "model_powerup = VGG16PowerUp(num_classes=num_classes).to(device)\n",
    "\n",
    "def count_parameters(model):\n",
    "    \"\"\"Hàm đếm số tham số của mô hình.\"\"\"\n",
    "    return sum(p.numel() for p in model.parameters() if p.requires_grad)\n",
    "\n",
    "# In số tham số\n",
    "print(f\"Số tham số sau khi tăng sức mạnh: {count_parameters(model_powerup):,}\")\n"
   ]
  },
  {
   "cell_type": "code",
   "execution_count": 37,
   "id": "6814a16c-2c11-45a9-87c7-732e9b3fe921",
   "metadata": {
    "execution": {
     "iopub.execute_input": "2024-12-08T15:04:05.357423Z",
     "iopub.status.busy": "2024-12-08T15:04:05.356560Z",
     "iopub.status.idle": "2024-12-08T15:04:05.362571Z",
     "shell.execute_reply": "2024-12-08T15:04:05.361609Z",
     "shell.execute_reply.started": "2024-12-08T15:04:05.357378Z"
    },
    "trusted": true
   },
   "outputs": [],
   "source": [
    "import os\n",
    "\n",
    "# Tạo thư mục nếu chưa tồn tại\n",
    "save_dir = \"/kaggle/working/check\"\n",
    "os.makedirs(save_dir, exist_ok=True)"
   ]
  },
  {
   "cell_type": "code",
   "execution_count": 43,
   "id": "93830ca8",
   "metadata": {
    "execution": {
     "iopub.execute_input": "2024-12-08T15:16:14.950319Z",
     "iopub.status.busy": "2024-12-08T15:16:14.949927Z",
     "iopub.status.idle": "2024-12-08T15:16:14.965082Z",
     "shell.execute_reply": "2024-12-08T15:16:14.964182Z",
     "shell.execute_reply.started": "2024-12-08T15:16:14.950270Z"
    },
    "papermill": {
     "duration": 0.048436,
     "end_time": "2024-12-05T01:41:19.530229",
     "exception": false,
     "start_time": "2024-12-05T01:41:19.481793",
     "status": "completed"
    },
    "tags": [],
    "trusted": true
   },
   "outputs": [],
   "source": [
    "def train_and_evaluate_with_wandb(model, dataloaders, criterion, optimizer, device, num_epochs):\n",
    "    train_loss_history, train_acc_history = [], []\n",
    "    val_loss_history, val_acc_history = [], []\n",
    "    best_val_acc = 0.0  # Biến để lưu trữ giá trị val accuracy tốt nhất\n",
    "\n",
    "    for epoch in range(num_epochs):\n",
    "        print(f\"Epoch {epoch + 1}/{num_epochs}\")\n",
    "        wandb.log({\"epoch\": epoch + 1})\n",
    "        \n",
    "        # Pha train được thực hiện mọi epoch\n",
    "        model.train()\n",
    "        running_loss, running_corrects = 0.0, 0\n",
    "\n",
    "        for batch_idx, (inputs, labels) in enumerate(dataloaders['train']):\n",
    "            inputs, labels = inputs.to(device), labels.to(device)\n",
    "            optimizer.zero_grad()\n",
    "\n",
    "            with torch.set_grad_enabled(True):\n",
    "                outputs = model(inputs)\n",
    "                loss = criterion(outputs, labels)\n",
    "                _, preds = torch.max(outputs, 1)\n",
    "\n",
    "                loss.backward()\n",
    "                optimizer.step()\n",
    "\n",
    "                #Tính Grad Norm\n",
    "                total_norm = 0\n",
    "                for p in model.parameters():\n",
    "                    if p.grad is not None:\n",
    "                        total_norm += p.grad.norm().item() ** 2\n",
    "                total_norm = total_norm ** 0.5\n",
    "                wandb.log({\"grad_norm\": total_norm})\n",
    "\n",
    "                running_loss += loss.item() * inputs.size(0)\n",
    "                running_corrects += torch.sum(preds == labels.data)\n",
    "\n",
    "            # Log hình ảnh từ batch đầu tiên\n",
    "            if batch_idx == 0:\n",
    "                images = wandb.Image(inputs[:8].cpu(), caption=\"Ground Truth: {}\".format(labels[:8].cpu()))\n",
    "                wandb.log({\"samples\": images})\n",
    "\n",
    "        # Tính toán loss và accuracy sau pha train\n",
    "        train_loss = running_loss / len(dataloaders['train'].dataset)\n",
    "        train_acc = running_corrects.double() / len(dataloaders['train'].dataset)\n",
    "\n",
    "        train_loss_history.append(train_loss)\n",
    "        train_acc_history.append(train_acc.item())\n",
    "        wandb.log({\n",
    "            \"train_loss\": train_loss,\n",
    "            \"train_accuracy\": train_acc.item()\n",
    "        })\n",
    "\n",
    "        print(f\"Train Loss: {train_loss:.4f} Acc: {train_acc:.4f}\")\n",
    "\n",
    "        # Pha validation chỉ chạy mỗi 5 epoch\n",
    "        if epoch % 5 == 4:\n",
    "            model.eval()\n",
    "            running_loss, running_corrects = 0.0, 0\n",
    "\n",
    "            for batch_idx, (inputs, labels) in enumerate(dataloaders['val']):\n",
    "                inputs, labels = inputs.to(device), labels.to(device)\n",
    "\n",
    "                with torch.set_grad_enabled(False):\n",
    "                    outputs = model(inputs)\n",
    "                    loss = criterion(outputs, labels)\n",
    "                    _, preds = torch.max(outputs, 1)\n",
    "\n",
    "                    running_loss += loss.item() * inputs.size(0)\n",
    "                    running_corrects += torch.sum(preds == labels.data)\n",
    "\n",
    "            # Tính toán loss và accuracy sau pha validation\n",
    "            val_loss = running_loss / len(dataloaders['val'].dataset)\n",
    "            val_acc = running_corrects.double() / len(dataloaders['val'].dataset)\n",
    "\n",
    "            val_loss_history.append(val_loss)\n",
    "            val_acc_history.append(val_acc.item())\n",
    "            wandb.log({\n",
    "                \"val_loss\": val_loss,\n",
    "                \"val_accuracy\": val_acc.item()\n",
    "            })\n",
    "\n",
    "            print(f\"Val Loss: {val_loss:.4f} Acc: {val_acc:.4f}\")\n",
    "\n",
    "            # Kiểm tra và lưu mô hình nếu val accuracy cao nhất\n",
    "            if val_acc > best_val_acc:\n",
    "                best_val_acc = val_acc\n",
    "                model_path = f\"/kaggle/working/best_model_vit_16_tiny_custom_epoch_{epoch + 1}.pth\"  # Tên file có index của epoch\n",
    "                torch.save(model.state_dict(), model_path)\n",
    "                wandb.save(model_path)\n",
    "                print(f\"Best model saved at epoch {epoch + 1} with val accuracy {best_val_acc:.4f}\")\n",
    "\n",
    "    # Lưu mô hình cuối cùng vào Wandb\n",
    "    torch.save(model.state_dict(), \"final_model_custom.pth\")\n",
    "    wandb.save(\"final_model_pretrain.pth\")\n",
    "    print(\"Final model saved.\")\n",
    "\n",
    "    return train_loss_history, train_acc_history, val_loss_history, val_acc_history"
   ]
  },
  {
   "cell_type": "code",
   "execution_count": 44,
   "id": "b4ad7929",
   "metadata": {
    "execution": {
     "iopub.execute_input": "2024-12-08T15:16:16.541202Z",
     "iopub.status.busy": "2024-12-08T15:16:16.540832Z",
     "iopub.status.idle": "2024-12-08T15:16:21.498246Z",
     "shell.execute_reply": "2024-12-08T15:16:21.497329Z",
     "shell.execute_reply.started": "2024-12-08T15:16:16.541166Z"
    },
    "papermill": {
     "duration": 2.444784,
     "end_time": "2024-12-05T01:41:22.007901",
     "exception": true,
     "start_time": "2024-12-05T01:41:19.563117",
     "status": "failed"
    },
    "tags": [],
    "trusted": true
   },
   "outputs": [
    {
     "data": {
      "text/html": [
       "Finishing last run (ID:VGG-16-skin-last-last) before initializing another..."
      ],
      "text/plain": [
       "<IPython.core.display.HTML object>"
      ]
     },
     "metadata": {},
     "output_type": "display_data"
    },
    {
     "data": {
      "application/vnd.jupyter.widget-view+json": {
       "model_id": "",
       "version_major": 2,
       "version_minor": 0
      },
      "text/plain": [
       "VBox(children=(Label(value='4.586 MB of 4.586 MB uploaded\\r'), FloatProgress(value=1.0, max=1.0)))"
      ]
     },
     "metadata": {},
     "output_type": "display_data"
    },
    {
     "data": {
      "text/html": [
       "\n",
       "    <style>\n",
       "        .wandb-row {\n",
       "            display: flex;\n",
       "            flex-direction: row;\n",
       "            flex-wrap: wrap;\n",
       "            justify-content: flex-start;\n",
       "            width: 100%;\n",
       "        }\n",
       "        .wandb-col {\n",
       "            display: flex;\n",
       "            flex-direction: column;\n",
       "            flex-basis: 100%;\n",
       "            flex: 1;\n",
       "            padding: 10px;\n",
       "        }\n",
       "    </style>\n",
       "<div class=\"wandb-row\"><div class=\"wandb-col\"><h3>Run history:</h3><br/><table class=\"wandb\"><tr><td>epoch</td><td>▁▂▃▄▅▆▇█</td></tr><tr><td>grad_norm</td><td>▂▂▅▂▂▂▁▁▂▁▃▁▂▃▃▃▄▂▄▅▂▂▂▂█▂▃▂▃▃▃▄▁▃▁▃▃▄▄▄</td></tr><tr><td>train_accuracy</td><td>▁▃▄▆▇▇█</td></tr><tr><td>train_loss</td><td>█▆▄▃▂▁▁</td></tr><tr><td>val_accuracy</td><td>▁</td></tr><tr><td>val_loss</td><td>▁</td></tr></table><br/></div><div class=\"wandb-col\"><h3>Run summary:</h3><br/><table class=\"wandb\"><tr><td>epoch</td><td>8</td></tr><tr><td>grad_norm</td><td>5.75892</td></tr><tr><td>train_accuracy</td><td>0.47271</td></tr><tr><td>train_loss</td><td>1.32541</td></tr><tr><td>val_accuracy</td><td>0.50572</td></tr><tr><td>val_loss</td><td>1.3101</td></tr></table><br/></div></div>"
      ],
      "text/plain": [
       "<IPython.core.display.HTML object>"
      ]
     },
     "metadata": {},
     "output_type": "display_data"
    },
    {
     "data": {
      "text/html": [
       " View run <strong style=\"color:#cdcd00\">VGG-16-skin-last-last</strong> at: <a href='https://wandb.ai/hoanoc321-dswfvsfv/skin-disease-classification/runs/VGG-16-skin-last-last' target=\"_blank\">https://wandb.ai/hoanoc321-dswfvsfv/skin-disease-classification/runs/VGG-16-skin-last-last</a><br/> View project at: <a href='https://wandb.ai/hoanoc321-dswfvsfv/skin-disease-classification' target=\"_blank\">https://wandb.ai/hoanoc321-dswfvsfv/skin-disease-classification</a><br/>Synced 5 W&B file(s), 0 media file(s), 0 artifact file(s) and 8 other file(s)"
      ],
      "text/plain": [
       "<IPython.core.display.HTML object>"
      ]
     },
     "metadata": {},
     "output_type": "display_data"
    },
    {
     "data": {
      "text/html": [
       "Find logs at: <code>./wandb/run-20241208_150416-VGG-16-skin-last-last/logs</code>"
      ],
      "text/plain": [
       "<IPython.core.display.HTML object>"
      ]
     },
     "metadata": {},
     "output_type": "display_data"
    },
    {
     "data": {
      "text/html": [
       "Successfully finished last run (ID:VGG-16-skin-last-last). Initializing new run:<br/>"
      ],
      "text/plain": [
       "<IPython.core.display.HTML object>"
      ]
     },
     "metadata": {},
     "output_type": "display_data"
    },
    {
     "data": {
      "text/html": [
       "Tracking run with wandb version 0.18.7"
      ],
      "text/plain": [
       "<IPython.core.display.HTML object>"
      ]
     },
     "metadata": {},
     "output_type": "display_data"
    },
    {
     "data": {
      "text/html": [
       "Run data is saved locally in <code>/kaggle/working/wandb/run-20241208_151616-VGG-16-skin-last-last</code>"
      ],
      "text/plain": [
       "<IPython.core.display.HTML object>"
      ]
     },
     "metadata": {},
     "output_type": "display_data"
    },
    {
     "data": {
      "text/html": [
       "Syncing run <strong><a href='https://wandb.ai/hoanoc321-dswfvsfv/skin-disease-classification/runs/VGG-16-skin-last-last' target=\"_blank\">VGG-16-skin-last-last</a></strong> to <a href='https://wandb.ai/hoanoc321-dswfvsfv/skin-disease-classification' target=\"_blank\">Weights & Biases</a> (<a href='https://wandb.me/developer-guide' target=\"_blank\">docs</a>)<br/>"
      ],
      "text/plain": [
       "<IPython.core.display.HTML object>"
      ]
     },
     "metadata": {},
     "output_type": "display_data"
    },
    {
     "data": {
      "text/html": [
       " View project at <a href='https://wandb.ai/hoanoc321-dswfvsfv/skin-disease-classification' target=\"_blank\">https://wandb.ai/hoanoc321-dswfvsfv/skin-disease-classification</a>"
      ],
      "text/plain": [
       "<IPython.core.display.HTML object>"
      ]
     },
     "metadata": {},
     "output_type": "display_data"
    },
    {
     "data": {
      "text/html": [
       " View run at <a href='https://wandb.ai/hoanoc321-dswfvsfv/skin-disease-classification/runs/VGG-16-skin-last-last' target=\"_blank\">https://wandb.ai/hoanoc321-dswfvsfv/skin-disease-classification/runs/VGG-16-skin-last-last</a>"
      ],
      "text/plain": [
       "<IPython.core.display.HTML object>"
      ]
     },
     "metadata": {},
     "output_type": "display_data"
    }
   ],
   "source": [
    "import wandb\n",
    "import timm\n",
    "\n",
    "# Khởi tạo Wandb\n",
    "wandb.init(\n",
    "    project=\"skin-disease-classification\",\n",
    "    id=\"VGG-16-skin-last-last\",\n",
    "    config={\n",
    "        \"epochs\": 5,\n",
    "        \"batch_size\": 64,\n",
    "        \"learning_rate\": 0.001,\n",
    "        \"optimizer\": \"Adam\",\n",
    "        \"model\": \"vit_tiny_patch16_224\",\n",
    "        \"num_classes\": num_classes\n",
    "    }\n",
    ")\n",
    "\n",
    "\n",
    "# Lấy config từ Wandb\n",
    "config = wandb.config\n",
    "\n",
    "# Thiết lập thiết bị\n",
    "device = torch.device(\"cuda\" if torch.cuda.is_available() else \"cpu\")\n",
    "\n",
    "# Khởi tạo mô hình và các thành phần\n",
    "model = model_powerup.to(device)\n",
    "# model = model_from_scratch_2\n",
    "criterion = nn.CrossEntropyLoss(weight=class_weights)\n",
    "optimizer = optim.Adam(model.parameters(), lr=config.learning_rate)\n",
    "# Tạo dataloaders dictionary\n",
    "dataloaders = {\n",
    "    \"train\": train_loader,\n",
    "    \"val\": val_loader\n",
    "}\n",
    "\n",
    "\n",
    "# checkpoint = torch.load(\"/kaggle/working/check/checkpoint4.pth\", map_location=device)\n",
    "# model.load_state_dict(checkpoint['model_state_dict'])\n",
    "# optimizer.load_state_dict(checkpoint['optimizer_state_dict'])\n",
    "# start_epoch = checkpoint['epoch']\n"
   ]
  },
  {
   "cell_type": "code",
   "execution_count": 46,
   "id": "aa9a984a-00ad-4a3f-a337-98f911155d01",
   "metadata": {
    "execution": {
     "iopub.execute_input": "2024-12-08T15:16:27.873075Z",
     "iopub.status.busy": "2024-12-08T15:16:27.872171Z",
     "iopub.status.idle": "2024-12-08T17:49:49.677770Z",
     "shell.execute_reply": "2024-12-08T17:49:49.676543Z",
     "shell.execute_reply.started": "2024-12-08T15:16:27.873042Z"
    },
    "trusted": true
   },
   "outputs": [
    {
     "name": "stdout",
     "output_type": "stream",
     "text": [
      "Epoch 1/100\n",
      "Train Loss: 1.2929 Acc: 0.4844\n",
      "Epoch 2/100\n",
      "Train Loss: 1.2621 Acc: 0.4953\n",
      "Epoch 3/100\n",
      "Train Loss: 1.2377 Acc: 0.5078\n",
      "Epoch 4/100\n",
      "Train Loss: 1.2336 Acc: 0.5118\n",
      "Epoch 5/100\n",
      "Train Loss: 1.2048 Acc: 0.5190\n"
     ]
    },
    {
     "name": "stderr",
     "output_type": "stream",
     "text": [
      "\u001b[34m\u001b[1mwandb\u001b[0m: \u001b[33mWARNING\u001b[0m Saving files without folders. If you want to preserve subdirectories pass base_path to wandb.save, i.e. wandb.save(\"/mnt/folder/file.h5\", base_path=\"/mnt\")\n"
     ]
    },
    {
     "name": "stdout",
     "output_type": "stream",
     "text": [
      "Val Loss: 0.9879 Acc: 0.6208\n",
      "Best model saved at epoch 5 with val accuracy 0.6208\n",
      "Epoch 6/100\n",
      "Train Loss: 1.1856 Acc: 0.5285\n",
      "Epoch 7/100\n",
      "Train Loss: 1.1649 Acc: 0.5338\n",
      "Epoch 8/100\n",
      "Train Loss: 1.1628 Acc: 0.5439\n",
      "Epoch 9/100\n",
      "Train Loss: 1.1450 Acc: 0.5508\n",
      "Epoch 10/100\n",
      "Train Loss: 1.1384 Acc: 0.5493\n",
      "Val Loss: 0.9574 Acc: 0.6190\n",
      "Epoch 11/100\n",
      "Train Loss: 1.1381 Acc: 0.5472\n",
      "Epoch 12/100\n",
      "Train Loss: 1.1245 Acc: 0.5552\n",
      "Epoch 13/100\n",
      "Train Loss: 1.1156 Acc: 0.5586\n",
      "Epoch 14/100\n",
      "Train Loss: 1.1046 Acc: 0.5635\n",
      "Epoch 15/100\n",
      "Train Loss: 1.1010 Acc: 0.5664\n",
      "Val Loss: 1.1306 Acc: 0.5898\n",
      "Epoch 16/100\n",
      "Train Loss: 1.0879 Acc: 0.5718\n",
      "Epoch 17/100\n",
      "Train Loss: 1.0744 Acc: 0.5789\n",
      "Epoch 18/100\n",
      "Train Loss: 1.0769 Acc: 0.5765\n",
      "Epoch 19/100\n",
      "Train Loss: 1.0731 Acc: 0.5792\n",
      "Epoch 20/100\n",
      "Train Loss: 1.0588 Acc: 0.5894\n",
      "Val Loss: 0.9119 Acc: 0.6581\n",
      "Best model saved at epoch 20 with val accuracy 0.6581\n",
      "Epoch 21/100\n",
      "Train Loss: 1.0442 Acc: 0.5971\n",
      "Epoch 22/100\n",
      "Train Loss: 1.0516 Acc: 0.5886\n",
      "Epoch 23/100\n",
      "Train Loss: 1.0391 Acc: 0.5900\n",
      "Epoch 24/100\n",
      "Train Loss: 1.0281 Acc: 0.5954\n",
      "Epoch 25/100\n",
      "Train Loss: 1.0249 Acc: 0.5982\n",
      "Val Loss: 0.8371 Acc: 0.6710\n",
      "Best model saved at epoch 25 with val accuracy 0.6710\n",
      "Epoch 26/100\n",
      "Train Loss: 1.0214 Acc: 0.6062\n",
      "Epoch 27/100\n",
      "Train Loss: 1.0176 Acc: 0.6007\n",
      "Epoch 28/100\n",
      "Train Loss: 1.0099 Acc: 0.6053\n",
      "Epoch 29/100\n",
      "Train Loss: 0.9935 Acc: 0.6133\n",
      "Epoch 30/100\n",
      "Train Loss: 0.9975 Acc: 0.6117\n",
      "Val Loss: 0.8725 Acc: 0.6529\n",
      "Epoch 31/100\n",
      "Train Loss: 0.9968 Acc: 0.6122\n",
      "Epoch 32/100\n",
      "Train Loss: 0.9784 Acc: 0.6181\n",
      "Epoch 33/100\n",
      "Train Loss: 0.9591 Acc: 0.6326\n",
      "Epoch 34/100\n",
      "Train Loss: 0.9662 Acc: 0.6252\n",
      "Epoch 35/100\n",
      "Train Loss: 0.9593 Acc: 0.6296\n",
      "Val Loss: 0.8455 Acc: 0.6854\n",
      "Best model saved at epoch 35 with val accuracy 0.6854\n",
      "Epoch 36/100\n",
      "Train Loss: 0.9470 Acc: 0.6396\n",
      "Epoch 37/100\n",
      "Train Loss: 0.9398 Acc: 0.6355\n",
      "Epoch 38/100\n",
      "Train Loss: 0.9416 Acc: 0.6352\n",
      "Epoch 39/100\n",
      "Train Loss: 0.9339 Acc: 0.6375\n",
      "Epoch 40/100\n",
      "Train Loss: 0.9305 Acc: 0.6405\n",
      "Val Loss: 0.7884 Acc: 0.7090\n",
      "Best model saved at epoch 40 with val accuracy 0.7090\n",
      "Epoch 41/100\n",
      "Train Loss: 0.9131 Acc: 0.6437\n",
      "Epoch 42/100\n",
      "Train Loss: 0.9210 Acc: 0.6451\n",
      "Epoch 43/100\n",
      "Train Loss: 0.8985 Acc: 0.6524\n",
      "Epoch 44/100\n",
      "Train Loss: 0.9038 Acc: 0.6502\n",
      "Epoch 45/100\n",
      "Train Loss: 0.8995 Acc: 0.6533\n",
      "Val Loss: 0.7940 Acc: 0.6916\n",
      "Epoch 46/100\n",
      "Train Loss: 0.8873 Acc: 0.6565\n",
      "Epoch 47/100\n",
      "Train Loss: 0.8857 Acc: 0.6575\n",
      "Epoch 48/100\n",
      "Train Loss: 0.8652 Acc: 0.6668\n",
      "Epoch 49/100\n",
      "Train Loss: 0.8664 Acc: 0.6662\n",
      "Epoch 50/100\n",
      "Train Loss: 0.8770 Acc: 0.6646\n",
      "Val Loss: 0.7676 Acc: 0.7127\n",
      "Best model saved at epoch 50 with val accuracy 0.7127\n",
      "Epoch 51/100\n",
      "Train Loss: 0.8666 Acc: 0.6683\n",
      "Epoch 52/100\n",
      "Train Loss: 0.8395 Acc: 0.6763\n",
      "Epoch 53/100\n",
      "Train Loss: 0.8449 Acc: 0.6764\n",
      "Epoch 54/100\n",
      "Train Loss: 0.8444 Acc: 0.6783\n",
      "Epoch 55/100\n",
      "Train Loss: 0.8304 Acc: 0.6835\n",
      "Val Loss: 0.8675 Acc: 0.6854\n",
      "Epoch 56/100\n",
      "Train Loss: 0.8300 Acc: 0.6811\n",
      "Epoch 57/100\n",
      "Train Loss: 0.8135 Acc: 0.6872\n",
      "Epoch 58/100\n",
      "Train Loss: 0.8190 Acc: 0.6870\n",
      "Epoch 59/100\n",
      "Train Loss: 0.8139 Acc: 0.6909\n",
      "Epoch 60/100\n",
      "Train Loss: 0.8081 Acc: 0.6911\n",
      "Val Loss: 0.7312 Acc: 0.7300\n",
      "Best model saved at epoch 60 with val accuracy 0.7300\n",
      "Epoch 61/100\n",
      "Train Loss: 0.7991 Acc: 0.6949\n",
      "Epoch 62/100\n",
      "Train Loss: 0.8062 Acc: 0.6934\n",
      "Epoch 63/100\n",
      "Train Loss: 0.7929 Acc: 0.6989\n",
      "Epoch 64/100\n",
      "Train Loss: 0.7792 Acc: 0.7047\n",
      "Epoch 65/100\n",
      "Train Loss: 0.7656 Acc: 0.7105\n",
      "Val Loss: 0.7817 Acc: 0.7130\n",
      "Epoch 66/100\n",
      "Train Loss: 0.7650 Acc: 0.7110\n",
      "Epoch 67/100\n",
      "Train Loss: 0.7562 Acc: 0.7146\n",
      "Epoch 68/100\n",
      "Train Loss: 0.7518 Acc: 0.7148\n",
      "Epoch 69/100\n",
      "Train Loss: 0.7350 Acc: 0.7224\n",
      "Epoch 70/100\n",
      "Train Loss: 0.7393 Acc: 0.7246\n",
      "Val Loss: 0.7082 Acc: 0.7425\n",
      "Best model saved at epoch 70 with val accuracy 0.7425\n",
      "Epoch 71/100\n",
      "Train Loss: 0.7493 Acc: 0.7145\n",
      "Epoch 72/100\n",
      "Train Loss: 0.7262 Acc: 0.7248\n",
      "Epoch 73/100\n",
      "Train Loss: 0.7332 Acc: 0.7263\n",
      "Epoch 74/100\n",
      "Train Loss: 0.7194 Acc: 0.7239\n",
      "Epoch 75/100\n",
      "Train Loss: 0.7089 Acc: 0.7327\n",
      "Val Loss: 0.7177 Acc: 0.7422\n",
      "Epoch 76/100\n",
      "Train Loss: 0.7039 Acc: 0.7354\n",
      "Epoch 77/100\n",
      "Train Loss: 0.7034 Acc: 0.7372\n",
      "Epoch 78/100\n",
      "Train Loss: 0.7025 Acc: 0.7371\n",
      "Epoch 79/100\n",
      "Train Loss: 0.6886 Acc: 0.7418\n",
      "Epoch 80/100\n",
      "Train Loss: 0.6777 Acc: 0.7435\n",
      "Val Loss: 0.7563 Acc: 0.7381\n",
      "Epoch 81/100\n",
      "Train Loss: 0.6744 Acc: 0.7451\n",
      "Epoch 82/100\n",
      "Train Loss: 0.6751 Acc: 0.7473\n",
      "Epoch 83/100\n",
      "Train Loss: 0.6694 Acc: 0.7468\n",
      "Epoch 84/100\n",
      "Train Loss: 0.6459 Acc: 0.7582\n",
      "Epoch 85/100\n",
      "Train Loss: 0.6472 Acc: 0.7538\n",
      "Val Loss: 0.7553 Acc: 0.7385\n",
      "Epoch 86/100\n",
      "Train Loss: 0.6510 Acc: 0.7555\n",
      "Epoch 87/100\n",
      "Train Loss: 0.6360 Acc: 0.7587\n",
      "Epoch 88/100\n",
      "Train Loss: 0.6303 Acc: 0.7648\n",
      "Epoch 89/100\n",
      "Train Loss: 0.6209 Acc: 0.7682\n",
      "Epoch 90/100\n",
      "Train Loss: 0.6181 Acc: 0.7692\n",
      "Val Loss: 0.6581 Acc: 0.7728\n",
      "Best model saved at epoch 90 with val accuracy 0.7728\n",
      "Epoch 91/100\n",
      "Train Loss: 0.6130 Acc: 0.7699\n",
      "Epoch 92/100\n",
      "Train Loss: 0.6201 Acc: 0.7702\n",
      "Epoch 93/100\n",
      "Train Loss: 0.6121 Acc: 0.7735\n",
      "Epoch 94/100\n",
      "Train Loss: 0.5993 Acc: 0.7771\n",
      "Epoch 95/100\n",
      "Train Loss: 0.5976 Acc: 0.7760\n",
      "Val Loss: 0.6946 Acc: 0.7580\n",
      "Epoch 96/100\n",
      "Train Loss: 0.5917 Acc: 0.7745\n",
      "Epoch 97/100\n",
      "Train Loss: 0.5829 Acc: 0.7823\n",
      "Epoch 98/100\n",
      "Train Loss: 0.5814 Acc: 0.7862\n",
      "Epoch 99/100\n",
      "Train Loss: 0.5814 Acc: 0.7840\n",
      "Epoch 100/100\n",
      "Train Loss: 0.5688 Acc: 0.7852\n",
      "Val Loss: 0.6757 Acc: 0.7761\n",
      "Best model saved at epoch 100 with val accuracy 0.7761\n",
      "Final model saved.\n"
     ]
    }
   ],
   "source": [
    "# Huấn luyện và đánh giá mô hình\n",
    "train_loss_history, train_acc_history, val_loss_history, val_acc_history = train_and_evaluate_with_wandb(\n",
    "    model=model,\n",
    "    dataloaders=dataloaders,\n",
    "    criterion=criterion,\n",
    "    optimizer=optimizer,\n",
    "    device=device,\n",
    "    num_epochs=100\n",
    ")\n"
   ]
  },
  {
   "cell_type": "code",
   "execution_count": 48,
   "id": "66f73c21-d9c1-4053-9a1f-8ef77205be34",
   "metadata": {
    "execution": {
     "iopub.execute_input": "2024-12-08T17:53:00.056581Z",
     "iopub.status.busy": "2024-12-08T17:53:00.055823Z",
     "iopub.status.idle": "2024-12-08T17:53:47.953656Z",
     "shell.execute_reply": "2024-12-08T17:53:47.952586Z",
     "shell.execute_reply.started": "2024-12-08T17:53:00.056545Z"
    },
    "trusted": true
   },
   "outputs": [
    {
     "name": "stdout",
     "output_type": "stream",
     "text": [
      "Evaluating on test dataset...\n",
      "Accuracy: 0.7614\n",
      "Precision (weighted): 0.7710, Recall (weighted): 0.7614, F1-score (weighted): 0.7597, mAP: 0.7478\n",
      "Confusion Matrix:\n",
      "                                                    1. Eczema  \\\n",
      "1. Eczema                                                 171   \n",
      "10. Warts Molluscum and other Viral Infections              9   \n",
      "2. Melanoma                                                 0   \n",
      "3. Atopic Dermatitis                                       23   \n",
      "4. Basal Cell Carcinoma (BCC)                               0   \n",
      "5. Melanocytic Nevi (NV)                                    0   \n",
      "6. Benign Keratosis-like Lesions (BKL)                      0   \n",
      "7. Psoriasis pictures Lichen Planus and related...         40   \n",
      "8. Seborrheic Keratoses and other Benign Tumors            12   \n",
      "9. Tinea Ringworm Candidiasis and other Fungal ...         30   \n",
      "\n",
      "                                                    10. Warts Molluscum and other Viral Infections  \\\n",
      "1. Eczema                                                                                       59   \n",
      "10. Warts Molluscum and other Viral Infections                                                 311   \n",
      "2. Melanoma                                                                                      6   \n",
      "3. Atopic Dermatitis                                                                            55   \n",
      "4. Basal Cell Carcinoma (BCC)                                                                    0   \n",
      "5. Melanocytic Nevi (NV)                                                                         2   \n",
      "6. Benign Keratosis-like Lesions (BKL)                                                           1   \n",
      "7. Psoriasis pictures Lichen Planus and related...                                              87   \n",
      "8. Seborrheic Keratoses and other Benign Tumors                                                 52   \n",
      "9. Tinea Ringworm Candidiasis and other Fungal ...                                              62   \n",
      "\n",
      "                                                    2. Melanoma  \\\n",
      "1. Eczema                                                     0   \n",
      "10. Warts Molluscum and other Viral Infections                1   \n",
      "2. Melanoma                                                 605   \n",
      "3. Atopic Dermatitis                                          0   \n",
      "4. Basal Cell Carcinoma (BCC)                                 0   \n",
      "5. Melanocytic Nevi (NV)                                     43   \n",
      "6. Benign Keratosis-like Lesions (BKL)                        2   \n",
      "7. Psoriasis pictures Lichen Planus and related...            0   \n",
      "8. Seborrheic Keratoses and other Benign Tumors               0   \n",
      "9. Tinea Ringworm Candidiasis and other Fungal ...            0   \n",
      "\n",
      "                                                    3. Atopic Dermatitis  \\\n",
      "1. Eczema                                                             33   \n",
      "10. Warts Molluscum and other Viral Infections                        35   \n",
      "2. Melanoma                                                            1   \n",
      "3. Atopic Dermatitis                                                 145   \n",
      "4. Basal Cell Carcinoma (BCC)                                          0   \n",
      "5. Melanocytic Nevi (NV)                                               0   \n",
      "6. Benign Keratosis-like Lesions (BKL)                                 0   \n",
      "7. Psoriasis pictures Lichen Planus and related...                    58   \n",
      "8. Seborrheic Keratoses and other Benign Tumors                       11   \n",
      "9. Tinea Ringworm Candidiasis and other Fungal ...                    31   \n",
      "\n",
      "                                                    4. Basal Cell Carcinoma (BCC)  \\\n",
      "1. Eczema                                                                       1   \n",
      "10. Warts Molluscum and other Viral Infections                                  1   \n",
      "2. Melanoma                                                                     3   \n",
      "3. Atopic Dermatitis                                                            0   \n",
      "4. Basal Cell Carcinoma (BCC)                                                 612   \n",
      "5. Melanocytic Nevi (NV)                                                       31   \n",
      "6. Benign Keratosis-like Lesions (BKL)                                         66   \n",
      "7. Psoriasis pictures Lichen Planus and related...                              1   \n",
      "8. Seborrheic Keratoses and other Benign Tumors                                 0   \n",
      "9. Tinea Ringworm Candidiasis and other Fungal ...                              0   \n",
      "\n",
      "                                                    5. Melanocytic Nevi (NV)  \\\n",
      "1. Eczema                                                                  0   \n",
      "10. Warts Molluscum and other Viral Infections                             3   \n",
      "2. Melanoma                                                               11   \n",
      "3. Atopic Dermatitis                                                       4   \n",
      "4. Basal Cell Carcinoma (BCC)                                             15   \n",
      "5. Melanocytic Nevi (NV)                                                1411   \n",
      "6. Benign Keratosis-like Lesions (BKL)                                    31   \n",
      "7. Psoriasis pictures Lichen Planus and related...                         0   \n",
      "8. Seborrheic Keratoses and other Benign Tumors                            4   \n",
      "9. Tinea Ringworm Candidiasis and other Fungal ...                         1   \n",
      "\n",
      "                                                    6. Benign Keratosis-like Lesions (BKL)  \\\n",
      "1. Eczema                                                                                0   \n",
      "10. Warts Molluscum and other Viral Infections                                           2   \n",
      "2. Melanoma                                                                              2   \n",
      "3. Atopic Dermatitis                                                                     3   \n",
      "4. Basal Cell Carcinoma (BCC)                                                           38   \n",
      "5. Melanocytic Nevi (NV)                                                               107   \n",
      "6. Benign Keratosis-like Lesions (BKL)                                                 317   \n",
      "7. Psoriasis pictures Lichen Planus and related...                                       3   \n",
      "8. Seborrheic Keratoses and other Benign Tumors                                          7   \n",
      "9. Tinea Ringworm Candidiasis and other Fungal ...                                       1   \n",
      "\n",
      "                                                    7. Psoriasis pictures Lichen Planus and related diseases  \\\n",
      "1. Eczema                                                                                          35          \n",
      "10. Warts Molluscum and other Viral Infections                                                      7          \n",
      "2. Melanoma                                                                                         0          \n",
      "3. Atopic Dermatitis                                                                                6          \n",
      "4. Basal Cell Carcinoma (BCC)                                                                       0          \n",
      "5. Melanocytic Nevi (NV)                                                                            0          \n",
      "6. Benign Keratosis-like Lesions (BKL)                                                              0          \n",
      "7. Psoriasis pictures Lichen Planus and related...                                                157          \n",
      "8. Seborrheic Keratoses and other Benign Tumors                                                    15          \n",
      "9. Tinea Ringworm Candidiasis and other Fungal ...                                                 37          \n",
      "\n",
      "                                                    8. Seborrheic Keratoses and other Benign Tumors  \\\n",
      "1. Eczema                                                                                         9   \n",
      "10. Warts Molluscum and other Viral Infections                                                   37   \n",
      "2. Melanoma                                                                                       0   \n",
      "3. Atopic Dermatitis                                                                             11   \n",
      "4. Basal Cell Carcinoma (BCC)                                                                     0   \n",
      "5. Melanocytic Nevi (NV)                                                                          0   \n",
      "6. Benign Keratosis-like Lesions (BKL)                                                            0   \n",
      "7. Psoriasis pictures Lichen Planus and related...                                               38   \n",
      "8. Seborrheic Keratoses and other Benign Tumors                                                 262   \n",
      "9. Tinea Ringworm Candidiasis and other Fungal ...                                               29   \n",
      "\n",
      "                                                    9. Tinea Ringworm Candidiasis and other Fungal Infections  \n",
      "1. Eczema                                                                                          29          \n",
      "10. Warts Molluscum and other Viral Infections                                                     15          \n",
      "2. Melanoma                                                                                         0          \n",
      "3. Atopic Dermatitis                                                                                6          \n",
      "4. Basal Cell Carcinoma (BCC)                                                                       0          \n",
      "5. Melanocytic Nevi (NV)                                                                            0          \n",
      "6. Benign Keratosis-like Lesions (BKL)                                                              0          \n",
      "7. Psoriasis pictures Lichen Planus and related...                                                 28          \n",
      "8. Seborrheic Keratoses and other Benign Tumors                                                     8          \n",
      "9. Tinea Ringworm Candidiasis and other Fungal ...                                                150          \n",
      "\n",
      "Sample Predictions:\n",
      "Correct Predictions (first 5):\n",
      "Sample 0: True = 1. Eczema, Pred = 1. Eczema\n",
      "Sample 6: True = 1. Eczema, Pred = 1. Eczema\n",
      "Sample 11: True = 1. Eczema, Pred = 1. Eczema\n",
      "Sample 12: True = 1. Eczema, Pred = 1. Eczema\n",
      "Sample 13: True = 1. Eczema, Pred = 1. Eczema\n",
      "Incorrect Predictions (first 5):\n",
      "Sample 1: True = 1. Eczema, Pred = 10. Warts Molluscum and other Viral Infections\n",
      "Sample 2: True = 1. Eczema, Pred = 3. Atopic Dermatitis\n",
      "Sample 3: True = 1. Eczema, Pred = 3. Atopic Dermatitis\n",
      "Sample 4: True = 1. Eczema, Pred = 10. Warts Molluscum and other Viral Infections\n",
      "Sample 5: True = 1. Eczema, Pred = 3. Atopic Dermatitis\n",
      "Test Set Metrics:\n",
      "{'accuracy': 0.7613531899246185, 'precision_weighted': 0.7709824035045134, 'recall_weighted': 0.7613531899246185, 'f1_score_weighted': 0.7597280922208329, 'mAP': 0.7478347857344321, 'class_metrics': {'1. Eczema': {'precision': 0.6, 'recall': 0.5074183976261127, 'f1-score': 0.5498392282958199, 'support': 337}, '10. Warts Molluscum and other Viral Infections': {'precision': 0.48976377952755906, 'recall': 0.7387173396674585, 'f1-score': 0.5890151515151515, 'support': 421}, '2. Melanoma': {'precision': 0.9293394777265745, 'recall': 0.9633757961783439, 'f1-score': 0.946051602814699, 'support': 628}, '3. Atopic Dermatitis': {'precision': 0.46178343949044587, 'recall': 0.5731225296442688, 'f1-score': 0.5114638447971781, 'support': 253}, '4. Basal Cell Carcinoma (BCC)': {'precision': 0.855944055944056, 'recall': 0.9203007518796993, 'f1-score': 0.8869565217391305, 'support': 665}, '5. Melanocytic Nevi (NV)': {'precision': 0.9533783783783784, 'recall': 0.8851944792973652, 'f1-score': 0.9180221210149643, 'support': 1594}, '6. Benign Keratosis-like Lesions (BKL)': {'precision': 0.6604166666666667, 'recall': 0.7601918465227818, 'f1-score': 0.7068004459308808, 'support': 417}, '7. Psoriasis pictures Lichen Planus and related diseases': {'precision': 0.6108949416342413, 'recall': 0.38106796116504854, 'f1-score': 0.469357249626308, 'support': 412}, '8. Seborrheic Keratoses and other Benign Tumors': {'precision': 0.6787564766839378, 'recall': 0.706199460916442, 'f1-score': 0.6922060766182299, 'support': 371}, '9. Tinea Ringworm Candidiasis and other Fungal Infections': {'precision': 0.635593220338983, 'recall': 0.4398826979472141, 'f1-score': 0.5199306759098787, 'support': 341}, 'accuracy': 0.7613531899246185, 'macro avg': {'precision': 0.6875870436390842, 'recall': 0.6875471260844734, 'f1-score': 0.678964291826224, 'support': 5439}, 'weighted avg': {'precision': 0.7709824035045134, 'recall': 0.7613531899246185, 'f1-score': 0.7597280922208329, 'support': 5439}}}\n"
     ]
    }
   ],
   "source": [
    "from sklearn.metrics import classification_report, accuracy_score, average_precision_score, confusion_matrix\n",
    "import pandas as pd\n",
    "\n",
    "def evaluate_on_test(model, test_loader, device, class_names):\n",
    "    model.eval()  # Chuyển sang chế độ đánh giá\n",
    "    all_preds = []\n",
    "    all_labels = []\n",
    "    all_probs = []\n",
    "\n",
    "    print(\"Evaluating on test dataset...\")\n",
    "    with torch.no_grad():\n",
    "        for inputs, labels in test_loader:\n",
    "            inputs, labels = inputs.to(device), labels.to(device)\n",
    "            outputs = model(inputs)\n",
    "            probs = torch.softmax(outputs, dim=1)\n",
    "            _, preds = torch.max(probs, 1)\n",
    "\n",
    "            all_preds.extend(preds.cpu().numpy())\n",
    "            all_labels.extend(labels.cpu().numpy())\n",
    "            all_probs.extend(probs.cpu().numpy())\n",
    "\n",
    "    # Tính các chỉ số tổng thể\n",
    "    accuracy = accuracy_score(all_labels, all_preds)\n",
    "    report = classification_report(\n",
    "        all_labels, \n",
    "        all_preds, \n",
    "        target_names=class_names, \n",
    "        digits=4, \n",
    "        output_dict=True\n",
    "    )\n",
    "    precision = report['weighted avg']['precision']\n",
    "    recall = report['weighted avg']['recall']\n",
    "    f1 = report['weighted avg']['f1-score']\n",
    "\n",
    "    # mAP (Mean Average Precision)\n",
    "    binarized_labels = pd.get_dummies(all_labels).to_numpy()\n",
    "    mAP = average_precision_score(binarized_labels, all_probs, average='macro')\n",
    "\n",
    "    # Log các chỉ số tổng thể lên WandB\n",
    "    wandb.log({\n",
    "        \"test_accuracy\": accuracy,\n",
    "        \"test_precision_weighted\": precision,\n",
    "        \"test_recall_weighted\": recall,\n",
    "        \"test_f1_weighted\": f1,\n",
    "        \"test_mAP\": mAP\n",
    "    })\n",
    "\n",
    "    # Log các chỉ số theo từng lớp\n",
    "    for class_name, metrics in report.items():\n",
    "        if class_name in class_names:  # Chỉ log cho các lớp, bỏ qua \"accuracy\", \"weighted avg\", \"macro avg\"\n",
    "            wandb.log({\n",
    "                f\"test_precision_{class_name}\": metrics['precision'],\n",
    "                f\"test_recall_{class_name}\": metrics['recall'],\n",
    "                f\"test_f1_{class_name}\": metrics['f1-score']\n",
    "            })\n",
    "\n",
    "    # In các chỉ số tổng thể\n",
    "    print(f\"Accuracy: {accuracy:.4f}\")\n",
    "    print(f\"Precision (weighted): {precision:.4f}, Recall (weighted): {recall:.4f}, F1-score (weighted): {f1:.4f}, mAP: {mAP:.4f}\")\n",
    "\n",
    "    # Confusion matrix\n",
    "    cm = confusion_matrix(all_labels, all_preds)\n",
    "    cm_df = pd.DataFrame(cm, index=class_names, columns=class_names)\n",
    "    print(\"Confusion Matrix:\")\n",
    "    print(cm_df)\n",
    "    wandb.log({\"test_confusion_matrix\": wandb.Table(dataframe=cm_df)})\n",
    "\n",
    "    # Hiển thị một số mẫu đúng và sai\n",
    "    print(\"\\nSample Predictions:\")\n",
    "    correct_samples = [(i, p) for i, p in enumerate(zip(all_labels, all_preds)) if p[0] == p[1]]\n",
    "    incorrect_samples = [(i, p) for i, p in enumerate(zip(all_labels, all_preds)) if p[0] != p[1]]\n",
    "\n",
    "    print(\"Correct Predictions (first 5):\")\n",
    "    for idx, (true, pred) in correct_samples[:5]:\n",
    "        print(f\"Sample {idx}: True = {class_names[true]}, Pred = {class_names[pred]}\")\n",
    "\n",
    "    print(\"Incorrect Predictions (first 5):\")\n",
    "    for idx, (true, pred) in incorrect_samples[:5]:\n",
    "        print(f\"Sample {idx}: True = {class_names[true]}, Pred = {class_names[pred]}\")\n",
    "\n",
    "    return {\n",
    "        \"accuracy\": accuracy,\n",
    "        \"precision_weighted\": precision,\n",
    "        \"recall_weighted\": recall,\n",
    "        \"f1_score_weighted\": f1,\n",
    "        \"mAP\": mAP,\n",
    "        \"class_metrics\": report\n",
    "    }\n",
    "\n",
    "\n",
    "# Gọi evaluate_on_test sau khi huấn luyện\n",
    "test_dataloader = DataLoader(test_dataset, batch_size=64, shuffle=False, num_workers=2)\n",
    "dataloaders[\"test\"] = test_dataloader\n",
    "\n",
    "\n",
    "\n",
    "# Đánh giá trên test set\n",
    "test_metrics = evaluate_on_test(model, dataloaders[\"test\"], device, class_names)\n",
    "print(f\"Test Set Metrics:\\n{test_metrics}\")\n",
    "wandb.log({\"test_metrics\": test_metrics})\n"
   ]
  }
 ],
 "metadata": {
  "kaggle": {
   "accelerator": "gpu",
   "dataSources": [
    {
     "datasetId": 1817999,
     "sourceId": 2965251,
     "sourceType": "datasetVersion"
    },
    {
     "datasetId": 4301853,
     "sourceId": 9990570,
     "sourceType": "datasetVersion"
    },
    {
     "datasetId": 6249048,
     "sourceId": 10126481,
     "sourceType": "datasetVersion"
    }
   ],
   "dockerImageVersionId": 30805,
   "isGpuEnabled": true,
   "isInternetEnabled": true,
   "language": "python",
   "sourceType": "notebook"
  },
  "kernelspec": {
   "display_name": "Python 3",
   "language": "python",
   "name": "python3"
  },
  "language_info": {
   "codemirror_mode": {
    "name": "ipython",
    "version": 3
   },
   "file_extension": ".py",
   "mimetype": "text/x-python",
   "name": "python",
   "nbconvert_exporter": "python",
   "pygments_lexer": "ipython3",
   "version": "3.10.14"
  },
  "papermill": {
   "default_parameters": {},
   "duration": 460.047373,
   "end_time": "2024-12-05T01:41:24.663832",
   "environment_variables": {},
   "exception": true,
   "input_path": "__notebook__.ipynb",
   "output_path": "__notebook__.ipynb",
   "parameters": {},
   "start_time": "2024-12-05T01:33:44.616459",
   "version": "2.6.0"
  }
 },
 "nbformat": 4,
 "nbformat_minor": 5
}
